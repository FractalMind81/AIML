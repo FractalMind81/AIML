{
 "cells": [
  {
   "cell_type": "markdown",
   "metadata": {},
   "source": [
    "# Project 4: Concrete Compressive Strength Prediction\n",
    "\n",
    "The objective in this case study is to produce a predictive model that can accurately predict the compressive strength of concrete. Here compressive strength, measured in megapascal (MPa), is a continuous target. Thus we will be developing a regression based model. \n",
    "\n",
    "The following steps will need to be accomplished in order to deliver this objective:\n",
    "1. [Import the dataset and libraries](#1)\n",
    "2. [Exploratory Data Analysis](#2)\n",
    "3. [Data Preprocessing and Feature Extraction](#3)\n",
    "4. [Baseline Model Building](#4)\n",
    "5. [Hyper-Parameter Tuning](#5)\n",
    "6. [Model Performance on Unseen Data](#6)\n",
    "7. [Optimizing for Compressive Strength using Particle Swarm Optimization](#7)"
   ]
  },
  {
   "cell_type": "markdown",
   "metadata": {},
   "source": [
    "<a id=\"1\"></a>\n",
    "### Step 1: Import the dataset and libraries\n",
    "\n",
    "In this section we will first load all of the nessecary libraries. Next we will load the dataset noting how many records there are, identifying the data types present, and checking for missing values."
   ]
  },
  {
   "cell_type": "code",
   "execution_count": 1,
   "metadata": {},
   "outputs": [],
   "source": [
    "import pandas as pd\n",
    "import numpy as np \n",
    "from scipy.optimize import curve_fit\n",
    "import matplotlib.pyplot as plt\n",
    "import seaborn as sns\n",
    "import plotly.express as px\n",
    "\n",
    "# configure visualization defaults\n",
    "plt.style.use('fivethirtyeight')\n",
    "%matplotlib inline\n",
    "\n",
    "# ignore warnings\n",
    "import warnings; warnings.simplefilter('ignore')\n",
    "\n",
    "# models used in this analysis\n",
    "from sklearn.ensemble import BaggingRegressor, RandomForestRegressor, GradientBoostingRegressor, AdaBoostRegressor\n",
    "from sklearn.neighbors import KNeighborsRegressor\n",
    "from sklearn.linear_model import Ridge, Lasso, ElasticNet\n",
    "from sklearn.cross_decomposition import PLSRegression\n",
    "\n",
    "# model helpers\n",
    "from sklearn.model_selection import train_test_split, GridSearchCV, RandomizedSearchCV, cross_val_score\n",
    "from sklearn.preprocessing import StandardScaler, PolynomialFeatures\n",
    "from sklearn.pipeline import make_pipeline\n",
    "\n",
    "# scoring metrics\n",
    "from sklearn.metrics import mean_squared_error, r2_score\n",
    "\n",
    "# Particle Swarm Optimization\n",
    "import pyswarms as ps"
   ]
  },
  {
   "cell_type": "code",
   "execution_count": 2,
   "metadata": {},
   "outputs": [],
   "source": [
    "# load the data as pandas dataframe\n",
    "data = pd.read_csv(\"concrete.csv\")"
   ]
  },
  {
   "cell_type": "code",
   "execution_count": 3,
   "metadata": {},
   "outputs": [
    {
     "data": {
      "text/html": [
       "<div>\n",
       "<style scoped>\n",
       "    .dataframe tbody tr th:only-of-type {\n",
       "        vertical-align: middle;\n",
       "    }\n",
       "\n",
       "    .dataframe tbody tr th {\n",
       "        vertical-align: top;\n",
       "    }\n",
       "\n",
       "    .dataframe thead th {\n",
       "        text-align: right;\n",
       "    }\n",
       "</style>\n",
       "<table border=\"1\" class=\"dataframe\">\n",
       "  <thead>\n",
       "    <tr style=\"text-align: right;\">\n",
       "      <th></th>\n",
       "      <th>cement</th>\n",
       "      <th>slag</th>\n",
       "      <th>ash</th>\n",
       "      <th>water</th>\n",
       "      <th>superplastic</th>\n",
       "      <th>coarseagg</th>\n",
       "      <th>fineagg</th>\n",
       "      <th>age</th>\n",
       "      <th>strength</th>\n",
       "    </tr>\n",
       "  </thead>\n",
       "  <tbody>\n",
       "    <tr>\n",
       "      <td>0</td>\n",
       "      <td>141.3</td>\n",
       "      <td>212.0</td>\n",
       "      <td>0.0</td>\n",
       "      <td>203.5</td>\n",
       "      <td>0.0</td>\n",
       "      <td>971.8</td>\n",
       "      <td>748.5</td>\n",
       "      <td>28</td>\n",
       "      <td>29.89</td>\n",
       "    </tr>\n",
       "    <tr>\n",
       "      <td>1</td>\n",
       "      <td>168.9</td>\n",
       "      <td>42.2</td>\n",
       "      <td>124.3</td>\n",
       "      <td>158.3</td>\n",
       "      <td>10.8</td>\n",
       "      <td>1080.8</td>\n",
       "      <td>796.2</td>\n",
       "      <td>14</td>\n",
       "      <td>23.51</td>\n",
       "    </tr>\n",
       "    <tr>\n",
       "      <td>2</td>\n",
       "      <td>250.0</td>\n",
       "      <td>0.0</td>\n",
       "      <td>95.7</td>\n",
       "      <td>187.4</td>\n",
       "      <td>5.5</td>\n",
       "      <td>956.9</td>\n",
       "      <td>861.2</td>\n",
       "      <td>28</td>\n",
       "      <td>29.22</td>\n",
       "    </tr>\n",
       "    <tr>\n",
       "      <td>3</td>\n",
       "      <td>266.0</td>\n",
       "      <td>114.0</td>\n",
       "      <td>0.0</td>\n",
       "      <td>228.0</td>\n",
       "      <td>0.0</td>\n",
       "      <td>932.0</td>\n",
       "      <td>670.0</td>\n",
       "      <td>28</td>\n",
       "      <td>45.85</td>\n",
       "    </tr>\n",
       "    <tr>\n",
       "      <td>4</td>\n",
       "      <td>154.8</td>\n",
       "      <td>183.4</td>\n",
       "      <td>0.0</td>\n",
       "      <td>193.3</td>\n",
       "      <td>9.1</td>\n",
       "      <td>1047.4</td>\n",
       "      <td>696.7</td>\n",
       "      <td>28</td>\n",
       "      <td>18.29</td>\n",
       "    </tr>\n",
       "  </tbody>\n",
       "</table>\n",
       "</div>"
      ],
      "text/plain": [
       "   cement   slag    ash  water  superplastic  coarseagg  fineagg  age  \\\n",
       "0   141.3  212.0    0.0  203.5           0.0      971.8    748.5   28   \n",
       "1   168.9   42.2  124.3  158.3          10.8     1080.8    796.2   14   \n",
       "2   250.0    0.0   95.7  187.4           5.5      956.9    861.2   28   \n",
       "3   266.0  114.0    0.0  228.0           0.0      932.0    670.0   28   \n",
       "4   154.8  183.4    0.0  193.3           9.1     1047.4    696.7   28   \n",
       "\n",
       "   strength  \n",
       "0     29.89  \n",
       "1     23.51  \n",
       "2     29.22  \n",
       "3     45.85  \n",
       "4     18.29  "
      ]
     },
     "execution_count": 3,
     "metadata": {},
     "output_type": "execute_result"
    }
   ],
   "source": [
    "# verify that the data loaded correctly\n",
    "data.head()"
   ]
  },
  {
   "cell_type": "code",
   "execution_count": 4,
   "metadata": {},
   "outputs": [
    {
     "name": "stdout",
     "output_type": "stream",
     "text": [
      "There are 1030 rows and 9 columns in the dataset.\n"
     ]
    }
   ],
   "source": [
    "# get the number of rows and columns of the data\n",
    "print(\"There are {} rows and {} columns in the dataset.\".format(data.shape[0],data.shape[1]))"
   ]
  },
  {
   "cell_type": "markdown",
   "metadata": {},
   "source": [
    "***Description of Features***\n",
    "\n",
    "| Name                          | Data Type    | Measurement        | Description    |\n",
    "|-------------------------------|--------------|--------------------|----------------|\n",
    "|                        Cement | quantitative | kg in a m3 mixture | Input Variable |\n",
    "|            Blast Furnace Slag | quantitative | kg in a m3 mixture | Input Variable |\n",
    "|                       Fly Ash | quantitative | kg in a m3 mixture | Input Variable |\n",
    "|                         Water | quantitative | kg in a m3 mixture | Input Variable |\n",
    "|              Superplasticizer | quantitative | kg in a m3 mixture | Input Variable |\n",
    "|              Coarse Aggregate | quantitative | kg in a m3 mixture | Input Variable |\n",
    "|                Fine Aggregate | quantitative | kg in a m3 mixture | Input Variable |\n",
    "|                           Age | quantitative |        Day (1~365) | Input Variable |\n",
    "| Concrete compressive strength | quantitative |                MPa | Target         |\n"
   ]
  },
  {
   "cell_type": "code",
   "execution_count": 5,
   "metadata": {},
   "outputs": [
    {
     "name": "stdout",
     "output_type": "stream",
     "text": [
      "<class 'pandas.core.frame.DataFrame'>\n",
      "RangeIndex: 1030 entries, 0 to 1029\n",
      "Data columns (total 9 columns):\n",
      "cement          1030 non-null float64\n",
      "slag            1030 non-null float64\n",
      "ash             1030 non-null float64\n",
      "water           1030 non-null float64\n",
      "superplastic    1030 non-null float64\n",
      "coarseagg       1030 non-null float64\n",
      "fineagg         1030 non-null float64\n",
      "age             1030 non-null int64\n",
      "strength        1030 non-null float64\n",
      "dtypes: float64(8), int64(1)\n",
      "memory usage: 72.5 KB\n"
     ]
    }
   ],
   "source": [
    "# Using data.info(), we can inspect the various data types in our dataset and also check for missing values\n",
    "data.info()"
   ]
  },
  {
   "cell_type": "markdown",
   "metadata": {},
   "source": [
    "All of the input features are numerical as is the target variable. There are no missing values in the dataset. Next we check for **duplicate** rows. "
   ]
  },
  {
   "cell_type": "code",
   "execution_count": 6,
   "metadata": {},
   "outputs": [
    {
     "data": {
      "text/plain": [
       "25"
      ]
     },
     "execution_count": 6,
     "metadata": {},
     "output_type": "execute_result"
    }
   ],
   "source": [
    "# checking for duplicates\n",
    "duplicates = data.duplicated()\n",
    "data[duplicates].shape[0]"
   ]
  },
  {
   "cell_type": "markdown",
   "metadata": {},
   "source": [
    "There are 25 duplicate records in the data. We should drop these duplicate records because having duplicate instances in both the training and test sets can result in overly optimistic model performance."
   ]
  },
  {
   "cell_type": "code",
   "execution_count": 7,
   "metadata": {},
   "outputs": [
    {
     "name": "stdout",
     "output_type": "stream",
     "text": [
      "Remaining rows after dropping duplicates: 1005\n"
     ]
    }
   ],
   "source": [
    "# dropping duplicate records\n",
    "data.drop_duplicates(inplace=True)\n",
    "\n",
    "print(\"Remaining rows after dropping duplicates: {}\".format(data.shape[0]))"
   ]
  },
  {
   "cell_type": "markdown",
   "metadata": {},
   "source": [
    "Before we dive into EDA portion of the case study, let's first assemble a data quality report."
   ]
  },
  {
   "cell_type": "code",
   "execution_count": 8,
   "metadata": {},
   "outputs": [],
   "source": [
    "def data_report(dataframe):\n",
    "    \n",
    "    # create numerical data report using built in describe() method\n",
    "    data_report = dataframe.describe().T\n",
    "    \n",
    "    # add a percent missing column\n",
    "    data_report['% missing'] = dataframe.apply(lambda x: x.isna().mean())\n",
    "    \n",
    "    # add a cardinality column\n",
    "    data_report['cardinality'] = dataframe.apply(lambda x: x.nunique())\n",
    "    \n",
    "    # add a skew column\n",
    "    data_report['skew'] = dataframe.apply(lambda x: x.skew())\n",
    "    \n",
    "    # rearrange the columns \n",
    "    cols = ['count','% missing','cardinality','mean','std','min','25%','50%','75%','max','skew']\n",
    "    data_report = data_report[cols]\n",
    "    \n",
    "    return data_report"
   ]
  },
  {
   "cell_type": "code",
   "execution_count": 9,
   "metadata": {},
   "outputs": [
    {
     "data": {
      "text/html": [
       "<div>\n",
       "<style scoped>\n",
       "    .dataframe tbody tr th:only-of-type {\n",
       "        vertical-align: middle;\n",
       "    }\n",
       "\n",
       "    .dataframe tbody tr th {\n",
       "        vertical-align: top;\n",
       "    }\n",
       "\n",
       "    .dataframe thead th {\n",
       "        text-align: right;\n",
       "    }\n",
       "</style>\n",
       "<table border=\"1\" class=\"dataframe\">\n",
       "  <thead>\n",
       "    <tr style=\"text-align: right;\">\n",
       "      <th></th>\n",
       "      <th>count</th>\n",
       "      <th>% missing</th>\n",
       "      <th>cardinality</th>\n",
       "      <th>mean</th>\n",
       "      <th>std</th>\n",
       "      <th>min</th>\n",
       "      <th>25%</th>\n",
       "      <th>50%</th>\n",
       "      <th>75%</th>\n",
       "      <th>max</th>\n",
       "      <th>skew</th>\n",
       "    </tr>\n",
       "  </thead>\n",
       "  <tbody>\n",
       "    <tr>\n",
       "      <td>cement</td>\n",
       "      <td>1005.0</td>\n",
       "      <td>0.0</td>\n",
       "      <td>278</td>\n",
       "      <td>278.631343</td>\n",
       "      <td>104.344261</td>\n",
       "      <td>102.00</td>\n",
       "      <td>190.70</td>\n",
       "      <td>265.0</td>\n",
       "      <td>349.00</td>\n",
       "      <td>540.0</td>\n",
       "      <td>0.564959</td>\n",
       "    </tr>\n",
       "    <tr>\n",
       "      <td>slag</td>\n",
       "      <td>1005.0</td>\n",
       "      <td>0.0</td>\n",
       "      <td>185</td>\n",
       "      <td>72.043483</td>\n",
       "      <td>86.170807</td>\n",
       "      <td>0.00</td>\n",
       "      <td>0.00</td>\n",
       "      <td>20.0</td>\n",
       "      <td>142.50</td>\n",
       "      <td>359.4</td>\n",
       "      <td>0.855225</td>\n",
       "    </tr>\n",
       "    <tr>\n",
       "      <td>ash</td>\n",
       "      <td>1005.0</td>\n",
       "      <td>0.0</td>\n",
       "      <td>156</td>\n",
       "      <td>55.536318</td>\n",
       "      <td>64.207969</td>\n",
       "      <td>0.00</td>\n",
       "      <td>0.00</td>\n",
       "      <td>0.0</td>\n",
       "      <td>118.30</td>\n",
       "      <td>200.1</td>\n",
       "      <td>0.497231</td>\n",
       "    </tr>\n",
       "    <tr>\n",
       "      <td>water</td>\n",
       "      <td>1005.0</td>\n",
       "      <td>0.0</td>\n",
       "      <td>195</td>\n",
       "      <td>182.075323</td>\n",
       "      <td>21.339334</td>\n",
       "      <td>121.80</td>\n",
       "      <td>166.60</td>\n",
       "      <td>185.7</td>\n",
       "      <td>192.90</td>\n",
       "      <td>247.0</td>\n",
       "      <td>0.034433</td>\n",
       "    </tr>\n",
       "    <tr>\n",
       "      <td>superplastic</td>\n",
       "      <td>1005.0</td>\n",
       "      <td>0.0</td>\n",
       "      <td>111</td>\n",
       "      <td>6.033234</td>\n",
       "      <td>5.919967</td>\n",
       "      <td>0.00</td>\n",
       "      <td>0.00</td>\n",
       "      <td>6.1</td>\n",
       "      <td>10.00</td>\n",
       "      <td>32.2</td>\n",
       "      <td>0.980604</td>\n",
       "    </tr>\n",
       "    <tr>\n",
       "      <td>coarseagg</td>\n",
       "      <td>1005.0</td>\n",
       "      <td>0.0</td>\n",
       "      <td>284</td>\n",
       "      <td>974.376816</td>\n",
       "      <td>77.579667</td>\n",
       "      <td>801.00</td>\n",
       "      <td>932.00</td>\n",
       "      <td>968.0</td>\n",
       "      <td>1031.00</td>\n",
       "      <td>1145.0</td>\n",
       "      <td>-0.065256</td>\n",
       "    </tr>\n",
       "    <tr>\n",
       "      <td>fineagg</td>\n",
       "      <td>1005.0</td>\n",
       "      <td>0.0</td>\n",
       "      <td>302</td>\n",
       "      <td>772.688259</td>\n",
       "      <td>80.340435</td>\n",
       "      <td>594.00</td>\n",
       "      <td>724.30</td>\n",
       "      <td>780.0</td>\n",
       "      <td>822.20</td>\n",
       "      <td>992.6</td>\n",
       "      <td>-0.252353</td>\n",
       "    </tr>\n",
       "    <tr>\n",
       "      <td>age</td>\n",
       "      <td>1005.0</td>\n",
       "      <td>0.0</td>\n",
       "      <td>14</td>\n",
       "      <td>45.856716</td>\n",
       "      <td>63.734692</td>\n",
       "      <td>1.00</td>\n",
       "      <td>7.00</td>\n",
       "      <td>28.0</td>\n",
       "      <td>56.00</td>\n",
       "      <td>365.0</td>\n",
       "      <td>3.253974</td>\n",
       "    </tr>\n",
       "    <tr>\n",
       "      <td>strength</td>\n",
       "      <td>1005.0</td>\n",
       "      <td>0.0</td>\n",
       "      <td>845</td>\n",
       "      <td>35.250378</td>\n",
       "      <td>16.284815</td>\n",
       "      <td>2.33</td>\n",
       "      <td>23.52</td>\n",
       "      <td>33.8</td>\n",
       "      <td>44.87</td>\n",
       "      <td>82.6</td>\n",
       "      <td>0.395696</td>\n",
       "    </tr>\n",
       "  </tbody>\n",
       "</table>\n",
       "</div>"
      ],
      "text/plain": [
       "               count  % missing  cardinality        mean         std     min  \\\n",
       "cement        1005.0        0.0          278  278.631343  104.344261  102.00   \n",
       "slag          1005.0        0.0          185   72.043483   86.170807    0.00   \n",
       "ash           1005.0        0.0          156   55.536318   64.207969    0.00   \n",
       "water         1005.0        0.0          195  182.075323   21.339334  121.80   \n",
       "superplastic  1005.0        0.0          111    6.033234    5.919967    0.00   \n",
       "coarseagg     1005.0        0.0          284  974.376816   77.579667  801.00   \n",
       "fineagg       1005.0        0.0          302  772.688259   80.340435  594.00   \n",
       "age           1005.0        0.0           14   45.856716   63.734692    1.00   \n",
       "strength      1005.0        0.0          845   35.250378   16.284815    2.33   \n",
       "\n",
       "                 25%    50%      75%     max      skew  \n",
       "cement        190.70  265.0   349.00   540.0  0.564959  \n",
       "slag            0.00   20.0   142.50   359.4  0.855225  \n",
       "ash             0.00    0.0   118.30   200.1  0.497231  \n",
       "water         166.60  185.7   192.90   247.0  0.034433  \n",
       "superplastic    0.00    6.1    10.00    32.2  0.980604  \n",
       "coarseagg     932.00  968.0  1031.00  1145.0 -0.065256  \n",
       "fineagg       724.30  780.0   822.20   992.6 -0.252353  \n",
       "age             7.00   28.0    56.00   365.0  3.253974  \n",
       "strength       23.52   33.8    44.87    82.6  0.395696  "
      ]
     },
     "execution_count": 9,
     "metadata": {},
     "output_type": "execute_result"
    }
   ],
   "source": [
    "data_report(data)"
   ]
  },
  {
   "cell_type": "markdown",
   "metadata": {},
   "source": [
    "The data quality reports provide a high level overview of the data we will be using to train the models. The report draws our attention to any immediate data quality issues i.e. missing values, irregular cardinality, large standard deviations, extreme skewness, etc. In the above report nothing suspicious catches our eye. Indeed, most of the features are well behaved save perhaps \"age\" which has some skewness to it and \"cement\" which has a large range of values implicated by its rather large standard deviation compared to its mean. "
   ]
  },
  {
   "cell_type": "markdown",
   "metadata": {},
   "source": [
    "<a id=\"2\"></a>\n",
    "### Step 2: Exploratory Data Analysis\n",
    "#### 2.1 Univariate Analysis"
   ]
  },
  {
   "cell_type": "markdown",
   "metadata": {},
   "source": [
    "<b style=\"color:#2E86C1;font-size:15px;\">Cement and Slag</b>"
   ]
  },
  {
   "cell_type": "code",
   "execution_count": 10,
   "metadata": {},
   "outputs": [
    {
     "data": {
      "text/html": [
       "<div>\n",
       "<style scoped>\n",
       "    .dataframe tbody tr th:only-of-type {\n",
       "        vertical-align: middle;\n",
       "    }\n",
       "\n",
       "    .dataframe tbody tr th {\n",
       "        vertical-align: top;\n",
       "    }\n",
       "\n",
       "    .dataframe thead th {\n",
       "        text-align: right;\n",
       "    }\n",
       "</style>\n",
       "<table border=\"1\" class=\"dataframe\">\n",
       "  <thead>\n",
       "    <tr style=\"text-align: right;\">\n",
       "      <th></th>\n",
       "      <th>count</th>\n",
       "      <th>% missing</th>\n",
       "      <th>cardinality</th>\n",
       "      <th>mean</th>\n",
       "      <th>std</th>\n",
       "      <th>min</th>\n",
       "      <th>25%</th>\n",
       "      <th>50%</th>\n",
       "      <th>75%</th>\n",
       "      <th>max</th>\n",
       "      <th>skew</th>\n",
       "    </tr>\n",
       "  </thead>\n",
       "  <tbody>\n",
       "    <tr>\n",
       "      <td>cement</td>\n",
       "      <td>1005.0</td>\n",
       "      <td>0.0</td>\n",
       "      <td>278</td>\n",
       "      <td>278.631343</td>\n",
       "      <td>104.344261</td>\n",
       "      <td>102.0</td>\n",
       "      <td>190.7</td>\n",
       "      <td>265.0</td>\n",
       "      <td>349.0</td>\n",
       "      <td>540.0</td>\n",
       "      <td>0.564959</td>\n",
       "    </tr>\n",
       "    <tr>\n",
       "      <td>slag</td>\n",
       "      <td>1005.0</td>\n",
       "      <td>0.0</td>\n",
       "      <td>185</td>\n",
       "      <td>72.043483</td>\n",
       "      <td>86.170807</td>\n",
       "      <td>0.0</td>\n",
       "      <td>0.0</td>\n",
       "      <td>20.0</td>\n",
       "      <td>142.5</td>\n",
       "      <td>359.4</td>\n",
       "      <td>0.855225</td>\n",
       "    </tr>\n",
       "  </tbody>\n",
       "</table>\n",
       "</div>"
      ],
      "text/plain": [
       "         count  % missing  cardinality        mean         std    min    25%  \\\n",
       "cement  1005.0        0.0          278  278.631343  104.344261  102.0  190.7   \n",
       "slag    1005.0        0.0          185   72.043483   86.170807    0.0    0.0   \n",
       "\n",
       "          50%    75%    max      skew  \n",
       "cement  265.0  349.0  540.0  0.564959  \n",
       "slag     20.0  142.5  359.4  0.855225  "
      ]
     },
     "execution_count": 10,
     "metadata": {},
     "output_type": "execute_result"
    }
   ],
   "source": [
    "data_report(data).loc[['cement','slag']]"
   ]
  },
  {
   "cell_type": "code",
   "execution_count": 11,
   "metadata": {},
   "outputs": [
    {
     "name": "stderr",
     "output_type": "stream",
     "text": [
      "2020-10-30 13:50:12,825 - numexpr.utils - INFO - NumExpr defaulting to 8 threads.\n"
     ]
    },
    {
     "data": {
      "image/png": "[encoded data removed]",
      "text/plain": [
       "<Figure size 720x288 with 4 Axes>"
      ]
     },
     "metadata": {
      "needs_background": "light"
     },
     "output_type": "display_data"
    }
   ],
   "source": [
    "fig, axes = plt.subplots(2, 2, figsize=(10, 4), sharex=False)\n",
    "\n",
    "sns.histplot(data=data, x='cement', bins=8, ax=axes[0,0]);\n",
    "sns.histplot(data=data, x='slag', bins=7, ax=axes[0,1]);\n",
    "axes[1,0].boxplot(data['cement'], vert=False, flierprops=dict(markerfacecolor='g', marker='D'));\n",
    "axes[1,1].boxplot(data['slag'], vert=False, flierprops=dict(markerfacecolor='g', marker='D'));\n",
    "plt.tight_layout()"
   ]
  },
  {
   "cell_type": "markdown",
   "metadata": {},
   "source": [
    "- Cement exhibits a slight right skewness with a large spread in values\n",
    "- A large portion of the records, at least 25%, have 0 slag in the concrete mixture. "
   ]
  },
  {
   "cell_type": "code",
   "execution_count": 12,
   "metadata": {},
   "outputs": [
    {
     "name": "stdout",
     "output_type": "stream",
     "text": [
      "47% of the concrete mixtures had no slag added.\n"
     ]
    }
   ],
   "source": [
    "# percentage of mixtures that have 0 slag\n",
    "missing_slag_perc = round(data[data.slag == 0].shape[0]/data.shape[0]*100)\n",
    "\n",
    "print(\"{}% of the concrete mixtures had no slag added.\".format(missing_slag_perc))\n"
   ]
  },
  {
   "cell_type": "markdown",
   "metadata": {},
   "source": [
    "<b style=\"color:#2E86C1;font-size:15px;\">Ash and Water</b>"
   ]
  },
  {
   "cell_type": "code",
   "execution_count": 13,
   "metadata": {},
   "outputs": [
    {
     "data": {
      "text/html": [
       "<div>\n",
       "<style scoped>\n",
       "    .dataframe tbody tr th:only-of-type {\n",
       "        vertical-align: middle;\n",
       "    }\n",
       "\n",
       "    .dataframe tbody tr th {\n",
       "        vertical-align: top;\n",
       "    }\n",
       "\n",
       "    .dataframe thead th {\n",
       "        text-align: right;\n",
       "    }\n",
       "</style>\n",
       "<table border=\"1\" class=\"dataframe\">\n",
       "  <thead>\n",
       "    <tr style=\"text-align: right;\">\n",
       "      <th></th>\n",
       "      <th>count</th>\n",
       "      <th>% missing</th>\n",
       "      <th>cardinality</th>\n",
       "      <th>mean</th>\n",
       "      <th>std</th>\n",
       "      <th>min</th>\n",
       "      <th>25%</th>\n",
       "      <th>50%</th>\n",
       "      <th>75%</th>\n",
       "      <th>max</th>\n",
       "      <th>skew</th>\n",
       "    </tr>\n",
       "  </thead>\n",
       "  <tbody>\n",
       "    <tr>\n",
       "      <td>ash</td>\n",
       "      <td>1005.0</td>\n",
       "      <td>0.0</td>\n",
       "      <td>156</td>\n",
       "      <td>55.536318</td>\n",
       "      <td>64.207969</td>\n",
       "      <td>0.0</td>\n",
       "      <td>0.0</td>\n",
       "      <td>0.0</td>\n",
       "      <td>118.3</td>\n",
       "      <td>200.1</td>\n",
       "      <td>0.497231</td>\n",
       "    </tr>\n",
       "    <tr>\n",
       "      <td>water</td>\n",
       "      <td>1005.0</td>\n",
       "      <td>0.0</td>\n",
       "      <td>195</td>\n",
       "      <td>182.075323</td>\n",
       "      <td>21.339334</td>\n",
       "      <td>121.8</td>\n",
       "      <td>166.6</td>\n",
       "      <td>185.7</td>\n",
       "      <td>192.9</td>\n",
       "      <td>247.0</td>\n",
       "      <td>0.034433</td>\n",
       "    </tr>\n",
       "  </tbody>\n",
       "</table>\n",
       "</div>"
      ],
      "text/plain": [
       "        count  % missing  cardinality        mean        std    min    25%  \\\n",
       "ash    1005.0        0.0          156   55.536318  64.207969    0.0    0.0   \n",
       "water  1005.0        0.0          195  182.075323  21.339334  121.8  166.6   \n",
       "\n",
       "         50%    75%    max      skew  \n",
       "ash      0.0  118.3  200.1  0.497231  \n",
       "water  185.7  192.9  247.0  0.034433  "
      ]
     },
     "execution_count": 13,
     "metadata": {},
     "output_type": "execute_result"
    }
   ],
   "source": [
    "data_report(data).loc[['ash','water']]"
   ]
  },
  {
   "cell_type": "code",
   "execution_count": 14,
   "metadata": {},
   "outputs": [
    {
     "data": {
      "image/png": "[encoded data removed]",
      "text/plain": [
       "<Figure size 720x288 with 4 Axes>"
      ]
     },
     "metadata": {
      "needs_background": "light"
     },
     "output_type": "display_data"
    }
   ],
   "source": [
    "fig, axes = plt.subplots(2, 2, figsize=(10, 4), sharex=False)\n",
    "\n",
    "sns.histplot(data=data, x='ash', binwidth=30, ax=axes[0,0]);\n",
    "sns.histplot(data=data, x='water', binwidth=12, ax=axes[0,1]);\n",
    "axes[1,0].boxplot(data['ash'], vert=False, flierprops=dict(markerfacecolor='g', marker='D'));\n",
    "axes[1,1].boxplot(data['water'], vert=False, flierprops=dict(markerfacecolor='g', marker='D'));\n",
    "plt.tight_layout()"
   ]
  },
  {
   "cell_type": "markdown",
   "metadata": {},
   "source": [
    "- The two distinct distributions of ash suggest different species of concrete. Concrete whose ash content falls between 0 and 30 $kg/m^3$ and those whose ash content is greater than 60 $kg/m^3$. In this latter range the ash content takes on the aspect of a normal distribution. \n",
    "- Water is fairly normal in its distribution with a large peak around 54 $kg/m^3$ with a couple outliers on both ends of the distribution"
   ]
  },
  {
   "cell_type": "code",
   "execution_count": 15,
   "metadata": {},
   "outputs": [
    {
     "name": "stdout",
     "output_type": "stream",
     "text": [
      "54% of the concrete mixtures had no ash added.\n"
     ]
    }
   ],
   "source": [
    "# percentage of mixtures that have 0 ash\n",
    "missing_ash_perc = round(data[data.ash == 0].shape[0]/data.shape[0]*100)\n",
    "\n",
    "print(\"{}% of the concrete mixtures had no ash added.\".format(missing_ash_perc))"
   ]
  },
  {
   "cell_type": "markdown",
   "metadata": {},
   "source": [
    "<b style=\"color:#2E86C1;font-size:15px;\">Superplastic and Coarseagg</b>"
   ]
  },
  {
   "cell_type": "code",
   "execution_count": 16,
   "metadata": {},
   "outputs": [
    {
     "data": {
      "text/html": [
       "<div>\n",
       "<style scoped>\n",
       "    .dataframe tbody tr th:only-of-type {\n",
       "        vertical-align: middle;\n",
       "    }\n",
       "\n",
       "    .dataframe tbody tr th {\n",
       "        vertical-align: top;\n",
       "    }\n",
       "\n",
       "    .dataframe thead th {\n",
       "        text-align: right;\n",
       "    }\n",
       "</style>\n",
       "<table border=\"1\" class=\"dataframe\">\n",
       "  <thead>\n",
       "    <tr style=\"text-align: right;\">\n",
       "      <th></th>\n",
       "      <th>count</th>\n",
       "      <th>% missing</th>\n",
       "      <th>cardinality</th>\n",
       "      <th>mean</th>\n",
       "      <th>std</th>\n",
       "      <th>min</th>\n",
       "      <th>25%</th>\n",
       "      <th>50%</th>\n",
       "      <th>75%</th>\n",
       "      <th>max</th>\n",
       "      <th>skew</th>\n",
       "    </tr>\n",
       "  </thead>\n",
       "  <tbody>\n",
       "    <tr>\n",
       "      <td>superplastic</td>\n",
       "      <td>1005.0</td>\n",
       "      <td>0.0</td>\n",
       "      <td>111</td>\n",
       "      <td>6.033234</td>\n",
       "      <td>5.919967</td>\n",
       "      <td>0.0</td>\n",
       "      <td>0.0</td>\n",
       "      <td>6.1</td>\n",
       "      <td>10.0</td>\n",
       "      <td>32.2</td>\n",
       "      <td>0.980604</td>\n",
       "    </tr>\n",
       "    <tr>\n",
       "      <td>coarseagg</td>\n",
       "      <td>1005.0</td>\n",
       "      <td>0.0</td>\n",
       "      <td>284</td>\n",
       "      <td>974.376816</td>\n",
       "      <td>77.579667</td>\n",
       "      <td>801.0</td>\n",
       "      <td>932.0</td>\n",
       "      <td>968.0</td>\n",
       "      <td>1031.0</td>\n",
       "      <td>1145.0</td>\n",
       "      <td>-0.065256</td>\n",
       "    </tr>\n",
       "  </tbody>\n",
       "</table>\n",
       "</div>"
      ],
      "text/plain": [
       "               count  % missing  cardinality        mean        std    min  \\\n",
       "superplastic  1005.0        0.0          111    6.033234   5.919967    0.0   \n",
       "coarseagg     1005.0        0.0          284  974.376816  77.579667  801.0   \n",
       "\n",
       "                25%    50%     75%     max      skew  \n",
       "superplastic    0.0    6.1    10.0    32.2  0.980604  \n",
       "coarseagg     932.0  968.0  1031.0  1145.0 -0.065256  "
      ]
     },
     "execution_count": 16,
     "metadata": {},
     "output_type": "execute_result"
    }
   ],
   "source": [
    "data_report(data).loc[['superplastic','coarseagg']]"
   ]
  },
  {
   "cell_type": "code",
   "execution_count": 17,
   "metadata": {},
   "outputs": [
    {
     "data": {
      "image/png": "[encoded data removed]",
      "text/plain": [
       "<Figure size 720x288 with 4 Axes>"
      ]
     },
     "metadata": {
      "needs_background": "light"
     },
     "output_type": "display_data"
    }
   ],
   "source": [
    "fig, axes = plt.subplots(2, 2, figsize=(10, 4), sharex=False)\n",
    "\n",
    "sns.histplot(data=data, x='superplastic',binwidth=1, ax=axes[0,0]);\n",
    "sns.histplot(data=data, x='coarseagg', binwidth=35, ax=axes[0,1]);\n",
    "axes[1,0].boxplot(data['superplastic'], vert=False, flierprops=dict(markerfacecolor='g', marker='D'));\n",
    "axes[1,1].boxplot(data['coarseagg'], vert=False, flierprops=dict(markerfacecolor='g', marker='D'));\n",
    "plt.tight_layout()"
   ]
  },
  {
   "cell_type": "markdown",
   "metadata": {},
   "source": [
    "- Superplastic's distribution suggests two distinct types of concrete; concrete whose superplastic content falls between 0 and 1 $kg/m^3$, and concrete that contains more than 3 $kg/m^3$ of superplastic. In the latter case the superplastic content is fairly normal with a couple outliers. \n",
    "- Coarseagg exhibits the characteritics of a multimodal distribution with three pronounced peaks, the largest of which is centered around 972. The other two peaks are centered around 850 and 1060. "
   ]
  },
  {
   "cell_type": "code",
   "execution_count": 18,
   "metadata": {},
   "outputs": [
    {
     "name": "stdout",
     "output_type": "stream",
     "text": [
      "38% of the concrete mixtures had no superplastic added.\n"
     ]
    }
   ],
   "source": [
    "# percentage of mixtures that have 0 superplastic\n",
    "missing_superplastic_perc = round(data[data.superplastic== 0].shape[0]/data.shape[0]*100)\n",
    "\n",
    "print(\"{}% of the concrete mixtures had no superplastic added.\".format(missing_superplastic_perc))"
   ]
  },
  {
   "cell_type": "markdown",
   "metadata": {},
   "source": [
    "<b style=\"color:#2E86C1;font-size:15px;\">Fineagg and Age</b>"
   ]
  },
  {
   "cell_type": "code",
   "execution_count": 19,
   "metadata": {},
   "outputs": [
    {
     "data": {
      "text/html": [
       "<div>\n",
       "<style scoped>\n",
       "    .dataframe tbody tr th:only-of-type {\n",
       "        vertical-align: middle;\n",
       "    }\n",
       "\n",
       "    .dataframe tbody tr th {\n",
       "        vertical-align: top;\n",
       "    }\n",
       "\n",
       "    .dataframe thead th {\n",
       "        text-align: right;\n",
       "    }\n",
       "</style>\n",
       "<table border=\"1\" class=\"dataframe\">\n",
       "  <thead>\n",
       "    <tr style=\"text-align: right;\">\n",
       "      <th></th>\n",
       "      <th>count</th>\n",
       "      <th>% missing</th>\n",
       "      <th>cardinality</th>\n",
       "      <th>mean</th>\n",
       "      <th>std</th>\n",
       "      <th>min</th>\n",
       "      <th>25%</th>\n",
       "      <th>50%</th>\n",
       "      <th>75%</th>\n",
       "      <th>max</th>\n",
       "      <th>skew</th>\n",
       "    </tr>\n",
       "  </thead>\n",
       "  <tbody>\n",
       "    <tr>\n",
       "      <td>fineagg</td>\n",
       "      <td>1005.0</td>\n",
       "      <td>0.0</td>\n",
       "      <td>302</td>\n",
       "      <td>772.688259</td>\n",
       "      <td>80.340435</td>\n",
       "      <td>594.0</td>\n",
       "      <td>724.3</td>\n",
       "      <td>780.0</td>\n",
       "      <td>822.2</td>\n",
       "      <td>992.6</td>\n",
       "      <td>-0.252353</td>\n",
       "    </tr>\n",
       "    <tr>\n",
       "      <td>age</td>\n",
       "      <td>1005.0</td>\n",
       "      <td>0.0</td>\n",
       "      <td>14</td>\n",
       "      <td>45.856716</td>\n",
       "      <td>63.734692</td>\n",
       "      <td>1.0</td>\n",
       "      <td>7.0</td>\n",
       "      <td>28.0</td>\n",
       "      <td>56.0</td>\n",
       "      <td>365.0</td>\n",
       "      <td>3.253974</td>\n",
       "    </tr>\n",
       "  </tbody>\n",
       "</table>\n",
       "</div>"
      ],
      "text/plain": [
       "          count  % missing  cardinality        mean        std    min    25%  \\\n",
       "fineagg  1005.0        0.0          302  772.688259  80.340435  594.0  724.3   \n",
       "age      1005.0        0.0           14   45.856716  63.734692    1.0    7.0   \n",
       "\n",
       "           50%    75%    max      skew  \n",
       "fineagg  780.0  822.2  992.6 -0.252353  \n",
       "age       28.0   56.0  365.0  3.253974  "
      ]
     },
     "execution_count": 19,
     "metadata": {},
     "output_type": "execute_result"
    }
   ],
   "source": [
    "data_report(data).loc[['fineagg','age']]"
   ]
  },
  {
   "cell_type": "code",
   "execution_count": 20,
   "metadata": {},
   "outputs": [
    {
     "data": {
      "image/png": "[encoded data removed]",
      "text/plain": [
       "<Figure size 720x288 with 4 Axes>"
      ]
     },
     "metadata": {
      "needs_background": "light"
     },
     "output_type": "display_data"
    }
   ],
   "source": [
    "fig, axes = plt.subplots(2, 2, figsize=(10, 4), sharex=False)\n",
    "\n",
    "sns.histplot(data=data, x='fineagg', binwidth=40, ax=axes[0,0]);\n",
    "sns.histplot(data=data, x='age', binwidth=30, ax=axes[0,1]);\n",
    "axes[1,0].boxplot(data['fineagg'], vert=False, flierprops=dict(markerfacecolor='g', marker='D'));\n",
    "axes[1,1].boxplot(data['age'], vert=False, flierprops=dict(markerfacecolor='g', marker='D'));\n",
    "plt.tight_layout()"
   ]
  },
  {
   "cell_type": "markdown",
   "metadata": {},
   "source": [
    "- Fineagg is close to normal with several outliers on the right.\n",
    "- There is a high frequency of records where the age of the concrete is between 1 and 30 days. Several outliers exist with ages past 125 days."
   ]
  },
  {
   "cell_type": "markdown",
   "metadata": {},
   "source": [
    "<b style=\"color:#2E86C1;font-size:15px;\">Strength</b>"
   ]
  },
  {
   "cell_type": "code",
   "execution_count": 21,
   "metadata": {},
   "outputs": [
    {
     "data": {
      "text/html": [
       "<div>\n",
       "<style scoped>\n",
       "    .dataframe tbody tr th:only-of-type {\n",
       "        vertical-align: middle;\n",
       "    }\n",
       "\n",
       "    .dataframe tbody tr th {\n",
       "        vertical-align: top;\n",
       "    }\n",
       "\n",
       "    .dataframe thead th {\n",
       "        text-align: right;\n",
       "    }\n",
       "</style>\n",
       "<table border=\"1\" class=\"dataframe\">\n",
       "  <thead>\n",
       "    <tr style=\"text-align: right;\">\n",
       "      <th></th>\n",
       "      <th>count</th>\n",
       "      <th>% missing</th>\n",
       "      <th>cardinality</th>\n",
       "      <th>mean</th>\n",
       "      <th>std</th>\n",
       "      <th>min</th>\n",
       "      <th>25%</th>\n",
       "      <th>50%</th>\n",
       "      <th>75%</th>\n",
       "      <th>max</th>\n",
       "      <th>skew</th>\n",
       "    </tr>\n",
       "  </thead>\n",
       "  <tbody>\n",
       "    <tr>\n",
       "      <td>strength</td>\n",
       "      <td>1005.0</td>\n",
       "      <td>0.0</td>\n",
       "      <td>845</td>\n",
       "      <td>35.250378</td>\n",
       "      <td>16.284815</td>\n",
       "      <td>2.33</td>\n",
       "      <td>23.52</td>\n",
       "      <td>33.8</td>\n",
       "      <td>44.87</td>\n",
       "      <td>82.6</td>\n",
       "      <td>0.395696</td>\n",
       "    </tr>\n",
       "  </tbody>\n",
       "</table>\n",
       "</div>"
      ],
      "text/plain": [
       "           count  % missing  cardinality       mean        std   min    25%  \\\n",
       "strength  1005.0        0.0          845  35.250378  16.284815  2.33  23.52   \n",
       "\n",
       "           50%    75%   max      skew  \n",
       "strength  33.8  44.87  82.6  0.395696  "
      ]
     },
     "execution_count": 21,
     "metadata": {},
     "output_type": "execute_result"
    }
   ],
   "source": [
    "data_report(data).loc[['strength']]"
   ]
  },
  {
   "cell_type": "code",
   "execution_count": 22,
   "metadata": {},
   "outputs": [
    {
     "data": {
      "image/png": "[encoded data removed]",
      "text/plain": [
       "<Figure size 432x288 with 2 Axes>"
      ]
     },
     "metadata": {
      "needs_background": "light"
     },
     "output_type": "display_data"
    }
   ],
   "source": [
    "fig, axes = plt.subplots(2)\n",
    "\n",
    "sns.histplot(data=data, x='strength', binwidth=10, ax=axes[0]);\n",
    "axes[1].boxplot(data['strength'], vert=False, flierprops=dict(markerfacecolor='g', marker='D'));\n",
    "\n",
    "plt.tight_layout()"
   ]
  },
  {
   "cell_type": "markdown",
   "metadata": {},
   "source": [
    "- Concrete strength follows a normal distribution with a central tendency around 36 Mpa. There are a couple outliers leading to a small amount of right skewness."
   ]
  },
  {
   "cell_type": "markdown",
   "metadata": {},
   "source": [
    "#### 2.1 Bivariate Analysis\n",
    "We begin our bivariate analysis by first looking at the correlations between the predictors and the response"
   ]
  },
  {
   "cell_type": "code",
   "execution_count": 23,
   "metadata": {},
   "outputs": [
    {
     "data": {
      "image/png": "[encoded data removed]",
      "text/plain": [
       "<Figure size 576x432 with 2 Axes>"
      ]
     },
     "metadata": {
      "needs_background": "light"
     },
     "output_type": "display_data"
    }
   ],
   "source": [
    "corr_df = data.corr()\n",
    "plt.figure(figsize=(8,6))\n",
    "sns.heatmap(corr_df,  annot=True, cmap=\"YlGnBu\");"
   ]
  },
  {
   "cell_type": "markdown",
   "metadata": {},
   "source": [
    "- Concrete strength has a strong linear relationship with the amount of cement. The more cement that is added the stronger the concrete. \n",
    "- Conrete also has a moderate linear relationship with both age and superplastic.\n",
    "- Ash and slag have a moderate negative relationship (-0.31)\n",
    "- Superplastic amd fineagg both have a strong negative relationship with water, -0.65 and -0.44, respectively.\n",
    "\n",
    "Below is a series of scatter plots of each feature versus the compressive strength of the concrete."
   ]
  },
  {
   "cell_type": "code",
   "execution_count": 24,
   "metadata": {},
   "outputs": [
    {
     "data": {
      "image/png": "[encoded data removed]",
      "text/plain": [
       "<Figure size 720x504 with 9 Axes>"
      ]
     },
     "metadata": {
      "needs_background": "light"
     },
     "output_type": "display_data"
    }
   ],
   "source": [
    "fig, axes = plt.subplots(3,3, figsize=(10,7))\n",
    "\n",
    "for idx,feature in enumerate(data.columns[:-1]): \n",
    "    \n",
    "    # create scatter plots\n",
    "    ax=axes.flatten()[idx]\n",
    "    sns.regplot(data=data, \n",
    "                x=feature, \n",
    "                y='strength', \n",
    "                ax=ax, \n",
    "                lowess=True, \n",
    "                line_kws={'color': 'red', 'linewidth':1.5}\n",
    "               )\n",
    "    ax.set_ylabel(None)\n",
    "    ax.set_xlabel(None)\n",
    "    ax.set_title(feature)\n",
    "\n",
    "axes[2,2].set_axis_off()\n",
    "plt.tight_layout()\n",
    "plt.show()"
   ]
  },
  {
   "cell_type": "markdown",
   "metadata": {},
   "source": [
    "- As noted earlier strength has a linear relationship with both cement and superplastic. \n",
    "- The plots also reveal a strong non-linear relationship with both water and age:\n",
    "    - On average, the strongest concrete mixtures are allowed to cure at least 90 days.\n",
    "    - On average the strongest mixtures have the lowest water concentration.\n",
    "- Ash and superplastic have a large number of observations of a single amount namely zero, and the strength varies greatly for these values. "
   ]
  },
  {
   "cell_type": "markdown",
   "metadata": {},
   "source": [
    "<a id=\"3\"></a>\n",
    "### Step 3: Data Preprocessing and Feature Engineering\n",
    "#### 3.1 Feature Engineering\n",
    "\n",
    "We will add a host of new features to the data set using Sklearn's PolynomialFeatures class adding polynomial terms up to degree 3 e.g. cement, cement^2, cement x slag, etc. These features will be added later using sklearn's make_pipleline class."
   ]
  },
  {
   "cell_type": "markdown",
   "metadata": {},
   "source": [
    "#### 3.2 Create Training and Test Splits"
   ]
  },
  {
   "cell_type": "code",
   "execution_count": 26,
   "metadata": {},
   "outputs": [],
   "source": [
    "# create input feature array\n",
    "X = data.drop(columns=['strength'])\n",
    "\n",
    "# create prediction labels\n",
    "y = data['strength']\n",
    "\n",
    "# 70:30 test train split\n",
    "X_train, X_test, y_train, y_test = train_test_split(X, y, test_size=0.30, random_state=1)"
   ]
  },
  {
   "cell_type": "markdown",
   "metadata": {},
   "source": [
    "<a id=\"4\"></a>\n",
    "### Step 4: Model Building and Evaluation"
   ]
  },
  {
   "cell_type": "markdown",
   "metadata": {},
   "source": [
    "In this section we will train a collection of linear and non-linear models and evaluate their performance on the training set using 10-fold CV."
   ]
  },
  {
   "cell_type": "code",
   "execution_count": 27,
   "metadata": {},
   "outputs": [],
   "source": [
    "r2_avg = []\n",
    "r2_std = []\n",
    "rmse_avg = []\n",
    "rmse_std = []\n",
    "\n",
    "estimators = [Lasso(), ElasticNet(), Ridge(), PLSRegression(), BaggingRegressor(random_state=1), \n",
    "              RandomForestRegressor(random_state=1), AdaBoostRegressor(random_state=1), \n",
    "              GradientBoostingRegressor(random_state=1), KNeighborsRegressor()]\n",
    "\n",
    "for estimator in estimators:\n",
    "              \n",
    "    pipe = make_pipeline(\n",
    "        PolynomialFeatures(include_bias=False, degree=3), # adding polynomial features\n",
    "        StandardScaler(), # scaling is necessary for the linear models and the KKN\n",
    "        estimator)\n",
    "    \n",
    "    # calculate R^2 using 10-fold CV\n",
    "    r2 = cross_val_score(estimator=pipe, \n",
    "                                X=X_train, \n",
    "                                y=y_train, \n",
    "                                cv=10, \n",
    "                                n_jobs=-1)\n",
    "    \n",
    "    # append R^2 average and std\n",
    "    r2_avg.append(np.mean(r2))\n",
    "    r2_std.append(np.std(r2))          \n",
    "     \n",
    "    # Calculate RMSE using 10-fold CV\n",
    "    rmse = -1.0*cross_val_score(estimator=pipe, \n",
    "                           X=X_train, \n",
    "                           y=y_train, \n",
    "                           cv=10, \n",
    "                           scoring='neg_root_mean_squared_error', \n",
    "                           n_jobs=-1)\n",
    "              \n",
    "    # append RMSE average and std\n",
    "    rmse_avg.append(np.mean(rmse))\n",
    "    rmse_std.append(np.std(rmse))"
   ]
  },
  {
   "cell_type": "markdown",
   "metadata": {},
   "source": [
    "#### Model Evaluation Summary"
   ]
  },
  {
   "cell_type": "code",
   "execution_count": 28,
   "metadata": {},
   "outputs": [
    {
     "data": {
      "text/html": [
       "<div>\n",
       "<style scoped>\n",
       "    .dataframe tbody tr th:only-of-type {\n",
       "        vertical-align: middle;\n",
       "    }\n",
       "\n",
       "    .dataframe tbody tr th {\n",
       "        vertical-align: top;\n",
       "    }\n",
       "\n",
       "    .dataframe thead th {\n",
       "        text-align: right;\n",
       "    }\n",
       "</style>\n",
       "<table border=\"1\" class=\"dataframe\">\n",
       "  <thead>\n",
       "    <tr style=\"text-align: right;\">\n",
       "      <th></th>\n",
       "      <th>R squared</th>\n",
       "      <th>RMSE</th>\n",
       "    </tr>\n",
       "  </thead>\n",
       "  <tbody>\n",
       "    <tr>\n",
       "      <td>Lasso</td>\n",
       "      <td>0.676 +/- 0.050</td>\n",
       "      <td>9.373 +/- 0.827 MPa</td>\n",
       "    </tr>\n",
       "    <tr>\n",
       "      <td>Elastic Net</td>\n",
       "      <td>0.690 +/- 0.051</td>\n",
       "      <td>9.165 +/- 0.808 MPa</td>\n",
       "    </tr>\n",
       "    <tr>\n",
       "      <td>Ridge</td>\n",
       "      <td>0.844 +/- 0.038</td>\n",
       "      <td>6.479 +/- 0.876 MPa</td>\n",
       "    </tr>\n",
       "    <tr>\n",
       "      <td>PLSRegression</td>\n",
       "      <td>0.618 +/- 0.065</td>\n",
       "      <td>10.152 +/- 0.776 MPa</td>\n",
       "    </tr>\n",
       "    <tr>\n",
       "      <td>Bagged Trees</td>\n",
       "      <td>0.885 +/- 0.025</td>\n",
       "      <td>5.574 +/- 0.734 MPa</td>\n",
       "    </tr>\n",
       "    <tr>\n",
       "      <td>Random Forest</td>\n",
       "      <td>0.897 +/- 0.024</td>\n",
       "      <td>5.276 +/- 0.744 MPa</td>\n",
       "    </tr>\n",
       "    <tr>\n",
       "      <td>AdaBoost</td>\n",
       "      <td>0.815 +/- 0.032</td>\n",
       "      <td>7.080 +/- 0.681 MPa</td>\n",
       "    </tr>\n",
       "    <tr>\n",
       "      <td>GradientBoosting</td>\n",
       "      <td>0.909 +/- 0.024</td>\n",
       "      <td>4.941 +/- 0.765 MPa</td>\n",
       "    </tr>\n",
       "    <tr>\n",
       "      <td>KNN</td>\n",
       "      <td>0.735 +/- 0.076</td>\n",
       "      <td>8.423 +/- 1.299 MPa</td>\n",
       "    </tr>\n",
       "  </tbody>\n",
       "</table>\n",
       "</div>"
      ],
      "text/plain": [
       "                        R squared                  RMSE\n",
       "Lasso             0.676 +/- 0.050   9.373 +/- 0.827 MPa\n",
       "Elastic Net       0.690 +/- 0.051   9.165 +/- 0.808 MPa\n",
       "Ridge             0.844 +/- 0.038   6.479 +/- 0.876 MPa\n",
       "PLSRegression     0.618 +/- 0.065  10.152 +/- 0.776 MPa\n",
       "Bagged Trees      0.885 +/- 0.025   5.574 +/- 0.734 MPa\n",
       "Random Forest     0.897 +/- 0.024   5.276 +/- 0.744 MPa\n",
       "AdaBoost          0.815 +/- 0.032   7.080 +/- 0.681 MPa\n",
       "GradientBoosting  0.909 +/- 0.024   4.941 +/- 0.765 MPa\n",
       "KNN               0.735 +/- 0.076   8.423 +/- 1.299 MPa"
      ]
     },
     "execution_count": 28,
     "metadata": {},
     "output_type": "execute_result"
    }
   ],
   "source": [
    "model_labels = ['Lasso', 'Elastic Net', 'Ridge', 'PLSRegression', 'Bagged Trees',\n",
    "'Random Forest', 'AdaBoost', 'GradientBoosting', 'KNN']\n",
    "\n",
    "metrics = {'R squared':[\"%.3f +/- %.3f\" % (r_2[0],r_2[1]) for r_2 in zip(r2_avg,r2_std)], \n",
    "           'RMSE':[\"%.3f +/- %.3f MPa\" % (rmse[0],rmse[1]) for rmse in zip(rmse_avg,rmse_std)]} \n",
    "\n",
    "pd.DataFrame(metrics, index=model_labels)"
   ]
  },
  {
   "cell_type": "markdown",
   "metadata": {},
   "source": [
    "Out of the linear models ridge regression performed the best. Random forests and gradient boosting were the top performers. In the next section we will conduct some hyper-parameter tuning on these two models and see if we can squeeze out some extra performance."
   ]
  },
  {
   "cell_type": "markdown",
   "metadata": {},
   "source": [
    "<a id=\"5\"></a>\n",
    "### Step 5: Hyper Parameter Tuning using RandomSearchCV"
   ]
  },
  {
   "cell_type": "markdown",
   "metadata": {},
   "source": [
    "#### Random Forests"
   ]
  },
  {
   "cell_type": "markdown",
   "metadata": {},
   "source": [
    "Here are the hyper parameters that we will be searching over:\n",
    "- **n_estimators:** The number of trees in the forest\n",
    "- **max_features:** The number of features to consider when looking for the best split\n",
    "- **max_depth:** The maximum depth of the tree\n",
    "- **min_samples_split:** The minimum number of samples required to split an internal node\n",
    "- **min_samples_leaf:** The minimum number of samples required to be at a leaf node"
   ]
  },
  {
   "cell_type": "code",
   "execution_count": 29,
   "metadata": {},
   "outputs": [
    {
     "name": "stdout",
     "output_type": "stream",
     "text": [
      "Fitting 10 folds for each of 20 candidates, totalling 200 fits\n"
     ]
    },
    {
     "name": "stderr",
     "output_type": "stream",
     "text": [
      "[Parallel(n_jobs=-1)]: Using backend LokyBackend with 8 concurrent workers.\n",
      "[Parallel(n_jobs=-1)]: Done  25 tasks      | elapsed:   39.8s\n",
      "[Parallel(n_jobs=-1)]: Done 146 tasks      | elapsed:  3.5min\n",
      "[Parallel(n_jobs=-1)]: Done 200 out of 200 | elapsed:  4.3min finished\n"
     ]
    },
    {
     "data": {
      "text/plain": [
       "{'randomforestregressor__n_estimators': 500,\n",
       " 'randomforestregressor__min_samples_split': 2,\n",
       " 'randomforestregressor__min_samples_leaf': 1,\n",
       " 'randomforestregressor__max_features': 'sqrt',\n",
       " 'randomforestregressor__max_depth': 90}"
      ]
     },
     "execution_count": 29,
     "metadata": {},
     "output_type": "execute_result"
    }
   ],
   "source": [
    "pipe_rf = make_pipeline(PolynomialFeatures(include_bias=False, degree=3), RandomForestRegressor(random_state=1))\n",
    "\n",
    "\n",
    "# Create parameter grid\n",
    "random_grid = {'randomforestregressor__n_estimators': [100, 200, 300, 400, 500],\n",
    "               'randomforestregressor__max_features': ['auto', 'sqrt'],\n",
    "               'randomforestregressor__max_depth': np.arange(10,110,10),\n",
    "               'randomforestregressor__min_samples_split': [2, 5, 10, 20],\n",
    "               'randomforestregressor__min_samples_leaf': [1, 2, 4, 8]}\n",
    "\n",
    "# perform random grid search that maximizes R^2\n",
    "randomCV_rf = RandomizedSearchCV(pipe_rf, \n",
    "                              param_distributions=random_grid, \n",
    "                              n_iter=20, # 20 samples\n",
    "                              cv=10, # 10 folds\n",
    "                              n_jobs=-1, \n",
    "                              verbose=2)\n",
    "\n",
    "# fit the model\n",
    "randomCV_rf.fit(X_train, y_train);\n",
    "\n",
    "# display the best hyper parameters found\n",
    "randomCV_rf.best_params_"
   ]
  },
  {
   "cell_type": "code",
   "execution_count": 57,
   "metadata": {},
   "outputs": [
    {
     "name": "stdout",
     "output_type": "stream",
     "text": [
      "R2 score before random search: 0.0.897\n",
      "R2 score after random search: 0.9\n"
     ]
    }
   ],
   "source": [
    "print(\"R2 score before random search: 0.897\")\n",
    "print(\"R2 score after random search: {}\".format(round(randomCV_rf.best_score_,3)))"
   ]
  },
  {
   "cell_type": "raw",
   "metadata": {},
   "source": [
    "After the random search, we see a sight improvement in R2. Let's see if there is any improvement on the RMSE."
   ]
  },
  {
   "cell_type": "code",
   "execution_count": 58,
   "metadata": {},
   "outputs": [
    {
     "name": "stdout",
     "output_type": "stream",
     "text": [
      "RMSE score before random search: 5.276\n",
      "RMSE score after random search: 2.115\n"
     ]
    }
   ],
   "source": [
    "rmse = np.sqrt(mean_squared_error(randomCV_rf.predict(X_train), y_train))\n",
    "\n",
    "print(\"RMSE score before random search: 5.276\")\n",
    "print(\"RMSE score after random search: {}\".format(round(rmse,3)))"
   ]
  },
  {
   "cell_type": "markdown",
   "metadata": {},
   "source": [
    "Now that is quite an improvement in RMSE! "
   ]
  },
  {
   "cell_type": "markdown",
   "metadata": {},
   "source": [
    "#### Gradient Boosting"
   ]
  },
  {
   "cell_type": "markdown",
   "metadata": {},
   "source": [
    "There are two types of hyper parameters for Gradient Boosting. The first type controls the behavior of the trees i.e. max_depth, max_features, etc. The second type of controls the boosting. These parameters are the learning rate and the number of trees in the boosting sequence. The learning rate scales the contribution of each tree and helps combat overfitting. However, there is a trade off between learning rate and number of trees; the lower the learning rate the more trees you will need in order for the model to generalize well on unseen data. This comes at a computational expense since adding more trees increases the computational runtime during training. For this reason we will tackle the hyper parameter tuning for Gradient Boosting in two stages:\n",
    "\n",
    "1. Keep the default learning rate of 0.1 and then find the optimal number of trees using GridSearchCV.\n",
    "2. Once an ideal number of trees are found then we will perform a random grid search of the tree hyper parameters."
   ]
  },
  {
   "cell_type": "code",
   "execution_count": 32,
   "metadata": {},
   "outputs": [
    {
     "name": "stdout",
     "output_type": "stream",
     "text": [
      "Fitting 10 folds for each of 5 candidates, totalling 50 fits\n"
     ]
    },
    {
     "name": "stderr",
     "output_type": "stream",
     "text": [
      "[Parallel(n_jobs=-1)]: Using backend LokyBackend with 8 concurrent workers.\n",
      "[Parallel(n_jobs=-1)]: Done  25 tasks      | elapsed:   24.3s\n",
      "[Parallel(n_jobs=-1)]: Done  50 out of  50 | elapsed:  1.1min finished\n"
     ]
    },
    {
     "data": {
      "text/plain": [
       "{'gradientboostingregressor__n_estimators': 500}"
      ]
     },
     "execution_count": 32,
     "metadata": {},
     "output_type": "execute_result"
    }
   ],
   "source": [
    "pipe_gb = make_pipeline(PolynomialFeatures(include_bias=False, degree=3), GradientBoostingRegressor(random_state=1))\n",
    "\n",
    "# perform grid search that maximizes R^2\n",
    "gridcv_gb = GridSearchCV(pipe_gb, \n",
    "                         param_grid={'gradientboostingregressor__n_estimators': [100, 200, 300, 400, 500]}, \n",
    "                         cv=10, \n",
    "                         n_jobs=-1, \n",
    "                         verbose=2)\n",
    "\n",
    "# refit the model\n",
    "gridcv_gb.fit(X_train, y_train);\n",
    "\n",
    "gridcv_gb.best_params_"
   ]
  },
  {
   "cell_type": "markdown",
   "metadata": {},
   "source": [
    "The grid search has identified that 400 trees is the best number of estimators given a learning rate of 0.1. We can now pass this number to the random grid search."
   ]
  },
  {
   "cell_type": "code",
   "execution_count": 33,
   "metadata": {},
   "outputs": [
    {
     "name": "stdout",
     "output_type": "stream",
     "text": [
      "Fitting 10 folds for each of 20 candidates, totalling 200 fits\n"
     ]
    },
    {
     "name": "stderr",
     "output_type": "stream",
     "text": [
      "[Parallel(n_jobs=-1)]: Using backend LokyBackend with 8 concurrent workers.\n",
      "[Parallel(n_jobs=-1)]: Done  25 tasks      | elapsed:   46.8s\n",
      "[Parallel(n_jobs=-1)]: Done 146 tasks      | elapsed:  3.6min\n",
      "[Parallel(n_jobs=-1)]: Done 200 out of 200 | elapsed:  4.2min finished\n"
     ]
    },
    {
     "data": {
      "text/plain": [
       "{'gradientboostingregressor__min_samples_split': 2,\n",
       " 'gradientboostingregressor__min_samples_leaf': 8,\n",
       " 'gradientboostingregressor__max_features': 'sqrt',\n",
       " 'gradientboostingregressor__max_depth': 3}"
      ]
     },
     "execution_count": 33,
     "metadata": {},
     "output_type": "execute_result"
    }
   ],
   "source": [
    "pipe_gb = make_pipeline(PolynomialFeatures(include_bias=False, degree=3), \n",
    "                        GradientBoostingRegressor(n_estimators=400, random_state=1)) # setting the number of trees to 500\n",
    "\n",
    "\n",
    "# Create parameter grid\n",
    "random_grid = {'gradientboostingregressor__max_features': ['auto', 'sqrt'],\n",
    "               'gradientboostingregressor__max_depth': [3, 6, 9, 12],\n",
    "               'gradientboostingregressor__min_samples_split': [2, 5, 10, 20],\n",
    "               'gradientboostingregressor__min_samples_leaf': [1, 2, 4, 8]}\n",
    "\n",
    "# perform random grid search that maximizes R^2\n",
    "randomCV_gb = RandomizedSearchCV(pipe_gb, \n",
    "                              param_distributions=random_grid, \n",
    "                              n_iter=20, # 20 samples\n",
    "                              cv=10, # 10 folds\n",
    "                              n_jobs=-1, \n",
    "                              verbose=2)\n",
    "\n",
    "# fit the model\n",
    "randomCV_gb.fit(X_train, y_train);\n",
    "\n",
    "randomCV_gb.best_params_"
   ]
  },
  {
   "cell_type": "code",
   "execution_count": 59,
   "metadata": {},
   "outputs": [
    {
     "name": "stdout",
     "output_type": "stream",
     "text": [
      "Cross validated R2 score before random search: 0.909\n",
      "Cross validated R2 score after random search: 0.925\n"
     ]
    }
   ],
   "source": [
    "print(\"Cross validated R2 score before random search: 0.909\")\n",
    "print(\"Cross validated R2 score after random search: {}\".format(round(randomCV_gb.best_score_,3)))"
   ]
  },
  {
   "cell_type": "code",
   "execution_count": 60,
   "metadata": {},
   "outputs": [
    {
     "name": "stdout",
     "output_type": "stream",
     "text": [
      "Cross validated RMSE score before random search: 4.941\n",
      "Cross validated RMSE score after random search: 2.115\n"
     ]
    }
   ],
   "source": [
    "rmse_gb = np.sqrt(mean_squared_error(randomCV_gb.predict(X_train), y_train))\n",
    "\n",
    "print(\"Cross validated RMSE score before random search: 4.941\")\n",
    "print(\"Cross validated RMSE score after random search: {}\".format(round(rmse,3)))"
   ]
  },
  {
   "cell_type": "markdown",
   "metadata": {},
   "source": [
    "<a id=\"6\"></a>\n",
    "### Step 6: Model Performance on Unseen Data"
   ]
  },
  {
   "cell_type": "code",
   "execution_count": null,
   "metadata": {},
   "outputs": [],
   "source": [
    "r2_train = []\n",
    "rmse_train = []\n",
    "r2_test = []\n",
    "rmse_test = []\n",
    "for model in [randomCV_rf, randomCV_gb]:\n",
    "    \n",
    "    r2_train.append(round(model.score(X_train, y_train),2))\n",
    "    y_pred_train = model.predict(X_train)\n",
    "    mse = mean_squared_error(y_pred_train,y_train)\n",
    "    rmse_train.append(round(np.sqrt(mse),2)\n",
    "                \n",
    "    r2_test.append(round(model.score(X_test, y_test),2))\n",
    "    y_pred_test = model.predict(X_test)\n",
    "    mse = mean_squared_error(y_pred_test,y_test)\n",
    "    rmse.append(round(np.sqrt(mse),2))\n",
    "\n",
    "\n",
    "model_labels = ['Random Forest', 'Gradient Boosting']\n",
    "metrics = {'R2':r2, 'RMSE':rmse}\n",
    "\n",
    "pd.DataFrame(metrics, index=model_labels)"
   ]
  },
  {
   "cell_type": "markdown",
   "metadata": {},
   "source": [
    "Gradient Boosting outperforms Random Forest by a decent margin in both R2 and RMSE. Below are plots of the observations, predictions, and residuals for both models."
   ]
  },
  {
   "cell_type": "code",
   "execution_count": 37,
   "metadata": {},
   "outputs": [
    {
     "data": {
      "image/png": "[encoded data removed]",
      "text/plain": [
       "<Figure size 576x576 with 4 Axes>"
      ]
     },
     "metadata": {
      "needs_background": "light"
     },
     "output_type": "display_data"
    }
   ],
   "source": [
    "# predictions\n",
    "y_pred_rf = randomCV_rf.predict(X_test)\n",
    "y_pred_gb = randomCV_gb.predict(X_test)\n",
    "\n",
    "# residuals\n",
    "residuals_rf = y_test - y_pred_rf\n",
    "residuals_gb = y_test - y_pred_gb\n",
    "\n",
    "fig, axes = plt.subplots(2,2, figsize=(8,8))\n",
    "\n",
    "axes = axes.flatten()\n",
    "\n",
    "# plot predicted vs observed for random forest\n",
    "sns.scatterplot(x=y_pred_rf, y=y_test, ax=axes[0])\n",
    "axes[0].plot([0, 90], [0, 90], ls=\"--\", c='k', linewidth=1.5)\n",
    "axes[0].set_title(\"Random Forest\")\n",
    "axes[0].set_xlabel(\"Predicted\");\n",
    "axes[0].set_ylabel(\"Observed\");\n",
    "axes[0].set_xlim(0,90);\n",
    "axes[0].set_ylim(0,90);\n",
    "\n",
    "# plot predicted vs observed for gradient boosting\n",
    "sns.scatterplot(x=y_pred_gb, y=y_test, ax=axes[1])\n",
    "axes[1].plot([0, 90], [0, 90], ls=\"--\", c='k', linewidth=1.5)\n",
    "axes[1].set_title(\"Gradient Boosting\")\n",
    "axes[1].set_xlabel(\"Predicted\");\n",
    "axes[1].set_ylabel(\"Observed\");\n",
    "axes[1].set_xlim(0,90);\n",
    "axes[1].set_ylim(0,90);\n",
    "\n",
    "# plot residuals for random forest\n",
    "sns.scatterplot(x=y_pred_rf, y=residuals_rf, ax=axes[2]);\n",
    "axes[2].axhline(y=0, color='k', linestyle='--', linewidth=1.5);\n",
    "axes[2].set_xlabel(\"Predicted\");\n",
    "axes[2].set_ylabel(\"Residuals\")\n",
    "axes[2].set_xlim(0,90);\n",
    "axes[2].set_ylim(-25,20);\n",
    "\n",
    "# plot residuals for gradient boosting\n",
    "sns.scatterplot(x=y_pred_gb, y=residuals_gb, ax=axes[3]);\n",
    "axes[3].axhline(y=0, color='k', linestyle='--', linewidth=1.5);\n",
    "axes[3].set_xlabel(\"Predicted\");\n",
    "axes[3].set_ylabel(\"Residuals\")\n",
    "axes[3].set_xlim(0,90);\n",
    "axes[3].set_ylim(-25,20);\n",
    "\n",
    "plt.tight_layout()"
   ]
  },
  {
   "cell_type": "markdown",
   "metadata": {},
   "source": [
    "There is good concordance with the observed and predicted values, and there is no discernable pattern in the residuals which suggests that both models are generalizing well."
   ]
  },
  {
   "cell_type": "markdown",
   "metadata": {},
   "source": [
    "<a id=\"7\"></a>\n",
    "### Step 7: Optimizing Compressive Strength using Particle Swarm Optimization \n",
    "\n",
    "In this section, using our tuned gradient boosting model, we attempt to find a concrete mixture that will maximize compressive strength. Once found, we could then send this ideal mixture to the industrial engineers for testing and verification. \n",
    "\n",
    "This section is divided into several parts. First, we provide a mathematical definition of optimization followed by a brief overview of Particale Swarm Optimization (PSO), and finally the application of PSO for finding an ideal concrete mixture that maximizes compressive strength.\n",
    "\n",
    "#### 7.1 Mathematical Optimization Formalism\n",
    "\n",
    "In applied mathematics optimization refers to the procedures used to find a “best” solution - amongst a set of candidate solutions - to a given problem. In general there are three\n",
    "aspects that are common to all optimization problems: an objective function, a search space,\n",
    "and constraints. The objective function is the quantity in which one wishes to optimize. The\n",
    "search space S is the set containing the candidate solutions which are used to evaluate the\n",
    "objective function. Constraints limit the search to candidate solutions contained within some\n",
    "feasible space F ⊆ S. Constraints are often found in real world optimization problems where\n",
    "time, money, and resources are limited. \n",
    "\n",
    "So in this context we have the following:\n",
    "1. The **objective funtion** is the gradient boosting model. \n",
    "2. The **search space** is the concrete mixture ingredients. This is a 9-dimensional search space that includes all of the input features from cement to age and the engineered feature cement to water ratio. \n",
    "3. The **constraints** were defined using the original minimum and maximum feature values in the data set.\n",
    "\n",
    "#### 7.2 Overview of Particle Swarm Optimization\n",
    "\n",
    "Particle Swarm Optimization (PSO) is a population based stochastic search optimization algorithm. The population or swarm consists of a number of particles N that explore a ndimensional search space where the location of each particle within the space is adjusted based on its own experience and that of its neighbors.\n",
    "\n",
    "Let $x_{i}(t), v_{i}(t) ∈ R^{n}$ for i = 1, . . . , n be the position and velocity of the *ith* particle,respectively. Here $t$ denotes a discrete time step. The position of the ith particle is adjusted by adding the velocity to the current position, that is <br><br>\n",
    "\\begin{equation*}\n",
    "x_{i}(t + 1) = x_{i}(t) + v_{i}(t + 1)\n",
    "\\label{eq:pos} \\tag{1}\n",
    "\\end{equation*}\n",
    "<br>\n",
    "In practice, the initial positions are confined within some boundary i.e. $x_{min} ≤ x_{i}(0) ≤ x_{max}$.\n",
    "There are two main variations of the PSO algorithm, namely the global best PSO and the\n",
    "local best PSO, which differ only in the size of their neighborhoods. The social interconnectivity of the swarm is often referred to as the neighborhood topology or social network structure. \n",
    "\n",
    "##### 7.2.1 Global Best PSO\n",
    "\n",
    "In the global best PSO, or simply gbest PSO, the neighborhood of each particle is the entire swarm. Every particle experiences an attraction towards its personal best value pBest and the best position encountered by any particle which we call the global best or simply gBest. Let the personal best position of particle *i*, in a n-dimensional search space be given by \n",
    "\n",
    "\\begin{equation*}\n",
    "\\mathbf{p}_{i}=[p_{i1},p_{i2},\\ldots,p_{in}],\n",
    "\\end{equation*}\n",
    "\n",
    "and let the global best position be given by\n",
    "\n",
    "\\begin{equation*}\n",
    "\\mathbf{g}=[g_{1},g_{2},\\ldots,g_{n}].\n",
    "\\end{equation*}\n",
    "\n",
    "After each iteration *t* the velocity of the *ith* particle is updated using the following equation:\n",
    "<br><br>\n",
    "\\begin{equation*}\n",
    "v_{ij}(t+1)=\\omega v_{ij}(t)+r_{1}c_{1}(p_{ij}-x_{ij}(t-1))+r_{2}c_{2}(g_{j}-x_{ij}(t-1)),\n",
    "\\label{eq:vel_update} \\tag{2}\n",
    "\\end{equation*}\n",
    "\n",
    "<br><br>\n",
    "where *r<sub>1</sub>* and *r<sub>2</sub>* are random numbers uniformly distributed between 0 and 1, *p<sub>ij</sub>* and *g<sub>j</sub>* are the *jth* component of pBest and gBest, respectively, *c<sub>1</sub>* (cognitive parameter) and *c<sub>2</sub>* (social parameter) are weights that scale the attraction towards *p<sub>ij</sub>* and *g<sub>j</sub>*, while *ω* is referred to as the inertial parameter. The particle positions are updated using (1) then each particle\n",
    "evaluates the objective function *f* using its current position i.e. $f_{i} = f(x_{i}(t + 1))$ and the\n",
    "vectors *p<sub>i</sub>* and *g* are updated in the following way:\n",
    "\n",
    "\\begin{equation*}\n",
    "\\label{eq:p_update} \\tag{3}\n",
    "\\mathbf{p}_{i}(t+1)=\\left\\{ \\begin{array}{lc}\n",
    "\\mathbf{p}_{i}(t) & \\mbox{if}\\: f(\\mathbf{x}_{i}(t+1)\\geq f(\\mathbf{p}_{i}(t))\\\\\n",
    "\\mathbf{x}_{i}(t+1) & \\mbox{if}\\: f(\\mathbf{x}_{i}(t+1)<f(\\mathbf{p}_{i}(t))\n",
    "\\end{array}\\right.\n",
    "\\end{equation*}\n",
    "\n",
    "\\begin{equation*}\n",
    "\\mathbf{g}=\\mathbf{p}_{i}(t+1)\\mbox{ s.t. }f(\\mathbf{p}_{i}(t+1))\\leq f(\\mathbf{p}_{j}(t+1))\\mbox{ for }j=1,\\ldots,N.\n",
    "\\label{eq:g_update} \\tag{4}\n",
    "\\end{equation*}\n",
    "\n",
    "#### 7.3 Optimizing Concrete Strength using PSO\n",
    "\n",
    "The implementation of PSO will be done using the PySwarms research toolkit which is \"intended for swarm intelligence researchers, practitioners, and students who prefer a high-level declarative interface for implementing PSO in their problems. PySwarms enables basic optimization with PSO and interaction with swarm optimization\". You can read more about the PySwarms package <a href=\"https://pyswarms.readthedocs.io/en/latest/index.html\">here</a>. \n",
    "\n",
    "Out of the box, PySwarms PSO tries to minimize an objective function, but for our purposes we need to maximize the objective function instead. Because of this we a simple user defined function which multiplies the output of our gradient boosting model by -1."
   ]
  },
  {
   "cell_type": "code",
   "execution_count": 45,
   "metadata": {},
   "outputs": [],
   "source": [
    "# create user-defined function \n",
    "def gradient_boosting(x, verbose):\n",
    "    return -1.0*randomCV_gb.predict(x)\n",
    "\n",
    "# search space dimensions\n",
    "ndim = X.shape[1]\n",
    "\n",
    "# set constraints using the min and max values of the input features\n",
    "lower_bounds = np.array(X.min())\n",
    "upper_bounds = np.array(X.max())\n",
    "bounds = (lower_bounds, upper_bounds)\n",
    "\n",
    "# set values for the cognitive, social, and inertial parameters\n",
    "options = {'c1': 0.5, 'c2': 0.3, 'w':0.9}"
   ]
  },
  {
   "cell_type": "markdown",
   "metadata": {},
   "source": [
    "Due to PSO stochastic nature you are not guaranteed to get the same results every time. Thus we will run 3 trials and record the results. "
   ]
  },
  {
   "cell_type": "code",
   "execution_count": 43,
   "metadata": {},
   "outputs": [
    {
     "name": "stderr",
     "output_type": "stream",
     "text": [
      "2020-10-30 14:11:59,476 - pyswarms.single.global_best - INFO - Optimize for 1000 iters with {'c1': 0.5, 'c2': 0.3, 'w': 0.9}\n",
      "pyswarms.single.global_best: 100%|██████████████████████████████████████████████████████████|1000/1000, best_cost=-96.3\n",
      "2020-10-30 14:12:01,589 - pyswarms.single.global_best - INFO - Optimization finished | best cost: -96.25982984052592, best pos: [527.1555618  210.08635811 111.55014461 146.75603154  10.28424711\n",
      " 920.38786337 781.5218413  157.03596601]\n",
      "2020-10-30 14:12:01,596 - pyswarms.single.global_best - INFO - Optimize for 1000 iters with {'c1': 0.5, 'c2': 0.3, 'w': 0.9}\n",
      "pyswarms.single.global_best: 100%|██████████████████████████████████████████████████████████|1000/1000, best_cost=-97.8\n",
      "2020-10-30 14:12:03,640 - pyswarms.single.global_best - INFO - Optimization finished | best cost: -97.75735009962622, best pos: [ 528.60584531  319.64481089   38.96459496  148.89876211   11.35850406\n",
      " 1003.99455013  731.57212618  290.49816093]\n",
      "2020-10-30 14:12:03,646 - pyswarms.single.global_best - INFO - Optimize for 1000 iters with {'c1': 0.5, 'c2': 0.3, 'w': 0.9}\n",
      "pyswarms.single.global_best: 100%|███████████████████████████████████████████████████████████|1000/1000, best_cost=-101\n",
      "2020-10-30 14:12:05,810 - pyswarms.single.global_best - INFO - Optimization finished | best cost: -100.64822598921349, best pos: [526.46511514 308.4151326  141.9268109  144.6254797   10.29343949\n",
      " 959.73034554 752.68049498 348.14941588]\n"
     ]
    }
   ],
   "source": [
    "results = np.empty(shape=(3,9))\n",
    "trials = np.arange(1,4)\n",
    "\n",
    "for trial in trials:\n",
    "    \n",
    "    # initialize global best PSO optimizer\n",
    "    optimizer = ps.single.GlobalBestPSO(n_particles=10, dimensions=ndim, options=options, bounds=bounds)\n",
    "\n",
    "    # run the optimizer\n",
    "    cost, mix = optimizer.optimize(gradient_boosting, iters=1000, verbose=False)\n",
    "    \n",
    "    # change the sign of the cost\n",
    "    strength = -1.0*cost\n",
    "    \n",
    "    results[trial-1,:] = np.append(mix,strength)"
   ]
  },
  {
   "cell_type": "markdown",
   "metadata": {},
   "source": [
    "#### 7.3.1 Results"
   ]
  },
  {
   "cell_type": "code",
   "execution_count": 54,
   "metadata": {},
   "outputs": [
    {
     "data": {
      "text/html": [
       "<div>\n",
       "<style scoped>\n",
       "    .dataframe tbody tr th:only-of-type {\n",
       "        vertical-align: middle;\n",
       "    }\n",
       "\n",
       "    .dataframe tbody tr th {\n",
       "        vertical-align: top;\n",
       "    }\n",
       "\n",
       "    .dataframe thead th {\n",
       "        text-align: right;\n",
       "    }\n",
       "</style>\n",
       "<table border=\"1\" class=\"dataframe\">\n",
       "  <thead>\n",
       "    <tr style=\"text-align: right;\">\n",
       "      <th></th>\n",
       "      <th>mixture 1</th>\n",
       "      <th>mixture 2</th>\n",
       "      <th>mixture 3</th>\n",
       "    </tr>\n",
       "  </thead>\n",
       "  <tbody>\n",
       "    <tr>\n",
       "      <td>cement</td>\n",
       "      <td>527.155562</td>\n",
       "      <td>528.605845</td>\n",
       "      <td>526.465115</td>\n",
       "    </tr>\n",
       "    <tr>\n",
       "      <td>slag</td>\n",
       "      <td>210.086358</td>\n",
       "      <td>319.644811</td>\n",
       "      <td>308.415133</td>\n",
       "    </tr>\n",
       "    <tr>\n",
       "      <td>ash</td>\n",
       "      <td>111.550145</td>\n",
       "      <td>38.964595</td>\n",
       "      <td>141.926811</td>\n",
       "    </tr>\n",
       "    <tr>\n",
       "      <td>water</td>\n",
       "      <td>146.756032</td>\n",
       "      <td>148.898762</td>\n",
       "      <td>144.625480</td>\n",
       "    </tr>\n",
       "    <tr>\n",
       "      <td>superplastic</td>\n",
       "      <td>10.284247</td>\n",
       "      <td>11.358504</td>\n",
       "      <td>10.293439</td>\n",
       "    </tr>\n",
       "    <tr>\n",
       "      <td>coarseagg</td>\n",
       "      <td>920.387863</td>\n",
       "      <td>1003.994550</td>\n",
       "      <td>959.730346</td>\n",
       "    </tr>\n",
       "    <tr>\n",
       "      <td>fineagg</td>\n",
       "      <td>781.521841</td>\n",
       "      <td>731.572126</td>\n",
       "      <td>752.680495</td>\n",
       "    </tr>\n",
       "    <tr>\n",
       "      <td>age</td>\n",
       "      <td>157.035966</td>\n",
       "      <td>290.498161</td>\n",
       "      <td>348.149416</td>\n",
       "    </tr>\n",
       "    <tr>\n",
       "      <td>strength</td>\n",
       "      <td>96.259830</td>\n",
       "      <td>97.757350</td>\n",
       "      <td>100.648226</td>\n",
       "    </tr>\n",
       "  </tbody>\n",
       "</table>\n",
       "</div>"
      ],
      "text/plain": [
       "               mixture 1    mixture 2   mixture 3\n",
       "cement        527.155562   528.605845  526.465115\n",
       "slag          210.086358   319.644811  308.415133\n",
       "ash           111.550145    38.964595  141.926811\n",
       "water         146.756032   148.898762  144.625480\n",
       "superplastic   10.284247    11.358504   10.293439\n",
       "coarseagg     920.387863  1003.994550  959.730346\n",
       "fineagg       781.521841   731.572126  752.680495\n",
       "age           157.035966   290.498161  348.149416\n",
       "strength       96.259830    97.757350  100.648226"
      ]
     },
     "execution_count": 54,
     "metadata": {},
     "output_type": "execute_result"
    }
   ],
   "source": [
    "results_df = pd.DataFrame(data=results, index=[\"mixture 1\", \"mixture 2\", \"mixture 3\"], columns=data.columns).T\n",
    "results_df"
   ]
  },
  {
   "cell_type": "markdown",
   "metadata": {},
   "source": [
    "Above are the maximum compressive strengths of three different mixtures found during the search. Note all three mixtures tend to agree on the contents of cement, water, and superplastic. It's also worth noting that the ideal curing times are all great than 90 days which agrees with the findings we found earlier in the exploratory data analysis. Furthermore, the water content is also in the lower range of values which is what we observed for the strongest mixtures. And last but not least, are the predicted compressive strengths of 96.26, 97.76, a 100.65. These values are larger than the largest observed compressive strength in the data set. "
   ]
  },
  {
   "cell_type": "code",
   "execution_count": 56,
   "metadata": {},
   "outputs": [
    {
     "data": {
      "text/html": [
       "<div>\n",
       "<style scoped>\n",
       "    .dataframe tbody tr th:only-of-type {\n",
       "        vertical-align: middle;\n",
       "    }\n",
       "\n",
       "    .dataframe tbody tr th {\n",
       "        vertical-align: top;\n",
       "    }\n",
       "\n",
       "    .dataframe thead th {\n",
       "        text-align: right;\n",
       "    }\n",
       "</style>\n",
       "<table border=\"1\" class=\"dataframe\">\n",
       "  <thead>\n",
       "    <tr style=\"text-align: right;\">\n",
       "      <th></th>\n",
       "      <th>mixture 1</th>\n",
       "      <th>mixture 2</th>\n",
       "      <th>mixture 3</th>\n",
       "      <th>max values</th>\n",
       "    </tr>\n",
       "  </thead>\n",
       "  <tbody>\n",
       "    <tr>\n",
       "      <td>cement</td>\n",
       "      <td>527.155562</td>\n",
       "      <td>528.605845</td>\n",
       "      <td>526.465115</td>\n",
       "      <td>540.0</td>\n",
       "    </tr>\n",
       "    <tr>\n",
       "      <td>slag</td>\n",
       "      <td>210.086358</td>\n",
       "      <td>319.644811</td>\n",
       "      <td>308.415133</td>\n",
       "      <td>359.4</td>\n",
       "    </tr>\n",
       "    <tr>\n",
       "      <td>ash</td>\n",
       "      <td>111.550145</td>\n",
       "      <td>38.964595</td>\n",
       "      <td>141.926811</td>\n",
       "      <td>200.1</td>\n",
       "    </tr>\n",
       "    <tr>\n",
       "      <td>water</td>\n",
       "      <td>146.756032</td>\n",
       "      <td>148.898762</td>\n",
       "      <td>144.625480</td>\n",
       "      <td>247.0</td>\n",
       "    </tr>\n",
       "    <tr>\n",
       "      <td>superplastic</td>\n",
       "      <td>10.284247</td>\n",
       "      <td>11.358504</td>\n",
       "      <td>10.293439</td>\n",
       "      <td>32.2</td>\n",
       "    </tr>\n",
       "    <tr>\n",
       "      <td>coarseagg</td>\n",
       "      <td>920.387863</td>\n",
       "      <td>1003.994550</td>\n",
       "      <td>959.730346</td>\n",
       "      <td>1145.0</td>\n",
       "    </tr>\n",
       "    <tr>\n",
       "      <td>fineagg</td>\n",
       "      <td>781.521841</td>\n",
       "      <td>731.572126</td>\n",
       "      <td>752.680495</td>\n",
       "      <td>992.6</td>\n",
       "    </tr>\n",
       "    <tr>\n",
       "      <td>age</td>\n",
       "      <td>157.035966</td>\n",
       "      <td>290.498161</td>\n",
       "      <td>348.149416</td>\n",
       "      <td>365.0</td>\n",
       "    </tr>\n",
       "    <tr>\n",
       "      <td>strength</td>\n",
       "      <td>96.259830</td>\n",
       "      <td>97.757350</td>\n",
       "      <td>100.648226</td>\n",
       "      <td>82.6</td>\n",
       "    </tr>\n",
       "  </tbody>\n",
       "</table>\n",
       "</div>"
      ],
      "text/plain": [
       "               mixture 1    mixture 2   mixture 3  max values\n",
       "cement        527.155562   528.605845  526.465115       540.0\n",
       "slag          210.086358   319.644811  308.415133       359.4\n",
       "ash           111.550145    38.964595  141.926811       200.1\n",
       "water         146.756032   148.898762  144.625480       247.0\n",
       "superplastic   10.284247    11.358504   10.293439        32.2\n",
       "coarseagg     920.387863  1003.994550  959.730346      1145.0\n",
       "fineagg       781.521841   731.572126  752.680495       992.6\n",
       "age           157.035966   290.498161  348.149416       365.0\n",
       "strength       96.259830    97.757350  100.648226        82.6"
      ]
     },
     "execution_count": 56,
     "metadata": {},
     "output_type": "execute_result"
    }
   ],
   "source": [
    "results_df['max values'] = data.max()\n",
    "results_df"
   ]
  },
  {
   "cell_type": "markdown",
   "metadata": {},
   "source": [
    "Comparing the mixture content themselves to maximum values of their respective features in the data set we that only cement is near the maximum observed value. This should not come as a surprise due to the linear relationship between cement and compressive strength. At this stage we could pass on the mixtures to the industrial engineers for scientific testing. "
   ]
  }
 ],
 "metadata": {
  "kernelspec": {
   "display_name": "Python 3",
   "language": "python",
   "name": "python3"
  },
  "language_info": {
   "codemirror_mode": {
    "name": "ipython",
    "version": 3
   },
   "file_extension": ".py",
   "mimetype": "text/x-python",
   "name": "python",
   "nbconvert_exporter": "python",
   "pygments_lexer": "ipython3",
   "version": "3.7.4"
  }
 },
 "nbformat": 4,
 "nbformat_minor": 2
}
